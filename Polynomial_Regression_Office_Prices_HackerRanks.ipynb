{
  "nbformat": 4,
  "nbformat_minor": 0,
  "metadata": {
    "colab": {
      "name": "Polynomial Regression: Office Prices-HackerRanks",
      "provenance": [],
      "collapsed_sections": [],
      "authorship_tag": "ABX9TyNVeb/C5RVwfnNZTYC5BWna",
      "include_colab_link": true
    },
    "kernelspec": {
      "name": "python3",
      "display_name": "Python 3"
    },
    "language_info": {
      "name": "python"
    }
  },
  "cells": [
    {
      "cell_type": "markdown",
      "metadata": {
        "id": "view-in-github",
        "colab_type": "text"
      },
      "source": [
        "<a href=\"https://colab.research.google.com/github/woongjoonchoi/CodingInterview/blob/main/Polynomial_Regression_Office_Prices_HackerRanks.ipynb\" target=\"_parent\"><img src=\"https://colab.research.google.com/assets/colab-badge.svg\" alt=\"Open In Colab\"/></a>"
      ]
    },
    {
      "cell_type": "code",
      "source": [
        "import os\n",
        "os.getcwd()"
      ],
      "metadata": {
        "colab": {
          "base_uri": "https://localhost:8080/",
          "height": 35
        },
        "id": "OXwPSG1NbhWV",
        "outputId": "bea3c382-6108-4177-e04c-8e0ec2c3f5fe"
      },
      "execution_count": 6,
      "outputs": [
        {
          "output_type": "execute_result",
          "data": {
            "text/plain": [
              "'/content'"
            ],
            "application/vnd.google.colaboratory.intrinsic+json": {
              "type": "string"
            }
          },
          "metadata": {},
          "execution_count": 6
        }
      ]
    },
    {
      "cell_type": "code",
      "source": [
        "os.path.dirname(\"input03.txt\")"
      ],
      "metadata": {
        "colab": {
          "base_uri": "https://localhost:8080/",
          "height": 35
        },
        "id": "cUoJ95yRccKy",
        "outputId": "e571501f-c974-4428-a77c-3b6b24b806aa"
      },
      "execution_count": 7,
      "outputs": [
        {
          "output_type": "execute_result",
          "data": {
            "text/plain": [
              "''"
            ],
            "application/vnd.google.colaboratory.intrinsic+json": {
              "type": "string"
            }
          },
          "metadata": {},
          "execution_count": 7
        }
      ]
    },
    {
      "cell_type": "code",
      "source": [
        "f = open(\"input03.txt\" ,'r')\n",
        "\n",
        "lines = f.readlines()\n",
        "\n",
        "for line in lines :\n",
        "    print(line)\n",
        "\n",
        "f.close()\n"
      ],
      "metadata": {
        "id": "LQUJDwqHb0kY"
      },
      "execution_count": null,
      "outputs": []
    },
    {
      "cell_type": "code",
      "execution_count": 13,
      "metadata": {
        "id": "xf0qE5RA4Xbt"
      },
      "outputs": [],
      "source": [
        "from sklearn.preprocessing import PolynomialFeatures"
      ]
    },
    {
      "cell_type": "code",
      "source": [
        "import numpy as np"
      ],
      "metadata": {
        "id": "oyypapWCU5o3"
      },
      "execution_count": 12,
      "outputs": []
    },
    {
      "cell_type": "markdown",
      "source": [
        "Stdin processing"
      ],
      "metadata": {
        "id": "82mTn6qjUEEN"
      }
    },
    {
      "cell_type": "code",
      "source": [
        "\n",
        "\n",
        "F,N = map(int,input().split())\n",
        "\n",
        "\n",
        "X = np.arange(F * N , dtype  = np.float64).reshape(N,F )\n",
        "Y = np.arange(N, dtype = np.float64).reshape(N,1)\n",
        "for i in range(N) :\n",
        "    *feat , y = input().split()\n",
        "    X[i][:] = feat\n",
        "    Y[i][:] = y\n",
        "\n",
        "print(X)\n"
      ],
      "metadata": {
        "id": "kPohXjiATr4Y"
      },
      "execution_count": null,
      "outputs": []
    },
    {
      "cell_type": "markdown",
      "source": [
        "input txt processing"
      ],
      "metadata": {
        "id": "cx44qeYLc9QJ"
      }
    },
    {
      "cell_type": "code",
      "source": [
        "f = open(\"input03.txt\" ,'r')\n",
        "\n",
        "lines = f.readlines()\n",
        "\n",
        "F , N  = map(int,lines[0].split())\n",
        "\n",
        "X = np.arange(F * N , dtype  = np.float64).reshape(N,F )\n",
        "Y = np.arange(N, dtype = np.float64).reshape(N,1)\n",
        "\n",
        "for i in  range(N) :\n",
        "\n",
        "    *feat  , y  = lines[i+1].split()\n",
        "    X[i][:] = feat\n",
        "    Y[i][:] = y\n",
        "    # print(line)\n",
        "\n",
        "print(X)\n",
        "print(Y)\n",
        "\n",
        "f.close()\n"
      ],
      "metadata": {
        "id": "4NzUugWPc-xt"
      },
      "execution_count": null,
      "outputs": []
    },
    {
      "cell_type": "markdown",
      "source": [
        "Data Visualization"
      ],
      "metadata": {
        "id": "T95BaNF2Xucy"
      }
    },
    {
      "cell_type": "code",
      "source": [
        "!pip install matplotlib==3.3.4"
      ],
      "metadata": {
        "colab": {
          "base_uri": "https://localhost:8080/"
        },
        "id": "OYlj5iO2YsV-",
        "outputId": "53c72d98-b0b1-4b6a-ba0e-3eac9452e8e7"
      },
      "execution_count": 1,
      "outputs": [
        {
          "output_type": "stream",
          "name": "stdout",
          "text": [
            "Looking in indexes: https://pypi.org/simple, https://us-python.pkg.dev/colab-wheels/public/simple/\n",
            "Requirement already satisfied: matplotlib==3.3.4 in /usr/local/lib/python3.7/dist-packages (3.3.4)\n",
            "Requirement already satisfied: pyparsing!=2.0.4,!=2.1.2,!=2.1.6,>=2.0.3 in /usr/local/lib/python3.7/dist-packages (from matplotlib==3.3.4) (3.0.9)\n",
            "Requirement already satisfied: numpy>=1.15 in /usr/local/lib/python3.7/dist-packages (from matplotlib==3.3.4) (1.21.6)\n",
            "Requirement already satisfied: cycler>=0.10 in /usr/local/lib/python3.7/dist-packages (from matplotlib==3.3.4) (0.11.0)\n",
            "Requirement already satisfied: kiwisolver>=1.0.1 in /usr/local/lib/python3.7/dist-packages (from matplotlib==3.3.4) (1.4.4)\n",
            "Requirement already satisfied: pillow>=6.2.0 in /usr/local/lib/python3.7/dist-packages (from matplotlib==3.3.4) (7.1.2)\n",
            "Requirement already satisfied: python-dateutil>=2.1 in /usr/local/lib/python3.7/dist-packages (from matplotlib==3.3.4) (2.8.2)\n",
            "Requirement already satisfied: typing-extensions in /usr/local/lib/python3.7/dist-packages (from kiwisolver>=1.0.1->matplotlib==3.3.4) (4.1.1)\n",
            "Requirement already satisfied: six>=1.5 in /usr/local/lib/python3.7/dist-packages (from python-dateutil>=2.1->matplotlib==3.3.4) (1.15.0)\n"
          ]
        }
      ]
    },
    {
      "cell_type": "code",
      "source": [
        "import matplotlib as mpl\n",
        "mpl.__version__"
      ],
      "metadata": {
        "colab": {
          "base_uri": "https://localhost:8080/",
          "height": 35
        },
        "id": "jxuHWrOTYcKa",
        "outputId": "ada57ba1-add2-4dcf-9dfb-0589cb84a08b"
      },
      "execution_count": 2,
      "outputs": [
        {
          "output_type": "execute_result",
          "data": {
            "text/plain": [
              "'3.3.4'"
            ],
            "application/vnd.google.colaboratory.intrinsic+json": {
              "type": "string"
            }
          },
          "metadata": {},
          "execution_count": 2
        }
      ]
    },
    {
      "cell_type": "code",
      "source": [
        "import matplotlib.pyplot as plt"
      ],
      "metadata": {
        "id": "jYdwJAmEXt7o"
      },
      "execution_count": 3,
      "outputs": []
    },
    {
      "cell_type": "code",
      "source": [
        ""
      ],
      "metadata": {
        "id": "s5fcTzpCX0vZ"
      },
      "execution_count": null,
      "outputs": []
    },
    {
      "cell_type": "markdown",
      "source": [
        "Make Polynomail Features"
      ],
      "metadata": {
        "id": "a00ae83iWiDv"
      }
    },
    {
      "cell_type": "code",
      "source": [
        "# xx = np.arange(6).reshape(3,2)\n",
        "\n",
        "poly = PolynomialFeatures(2)\n",
        "\n",
        "new_data  = poly.fit_transform(X)\n",
        "\n",
        "# poly\n",
        "new_data.shape"
      ],
      "metadata": {
        "colab": {
          "base_uri": "https://localhost:8080/"
        },
        "id": "-PpYEdMXWhm-",
        "outputId": "ce454dec-54df-4518-c10c-244588964564"
      },
      "execution_count": 21,
      "outputs": [
        {
          "output_type": "execute_result",
          "data": {
            "text/plain": [
              "(100, 6)"
            ]
          },
          "metadata": {},
          "execution_count": 21
        }
      ]
    },
    {
      "cell_type": "code",
      "source": [
        "new_data[:,0]\n"
      ],
      "metadata": {
        "colab": {
          "base_uri": "https://localhost:8080/"
        },
        "id": "2P8G27uSgeHC",
        "outputId": "1323f0ac-bef9-422b-ff07-d32ad06559c3"
      },
      "execution_count": 31,
      "outputs": [
        {
          "output_type": "execute_result",
          "data": {
            "text/plain": [
              "array([1., 1., 1., 1., 1., 1., 1., 1., 1., 1., 1., 1., 1., 1., 1., 1., 1.,\n",
              "       1., 1., 1., 1., 1., 1., 1., 1., 1., 1., 1., 1., 1., 1., 1., 1., 1.,\n",
              "       1., 1., 1., 1., 1., 1., 1., 1., 1., 1., 1., 1., 1., 1., 1., 1., 1.,\n",
              "       1., 1., 1., 1., 1., 1., 1., 1., 1., 1., 1., 1., 1., 1., 1., 1., 1.,\n",
              "       1., 1., 1., 1., 1., 1., 1., 1., 1., 1., 1., 1., 1., 1., 1., 1., 1.,\n",
              "       1., 1., 1., 1., 1., 1., 1., 1., 1., 1., 1., 1., 1., 1., 1.])"
            ]
          },
          "metadata": {},
          "execution_count": 31
        }
      ]
    },
    {
      "cell_type": "code",
      "source": [
        "fig = plt.figure(figsize = (14,12))\n",
        "\n",
        "\n",
        "for ind , i in enumerate(range(1 , 3 * 2 + 1)) :\n",
        "    ax = fig.add_subplot(3,3,i) \n",
        "    ax.scatter(new_data[:,ind] , Y)\n",
        "\n",
        "plt.show()\n",
        "# ax1  = fig.add_subplot()\n"
      ],
      "metadata": {
        "colab": {
          "base_uri": "https://localhost:8080/",
          "height": 470
        },
        "id": "j147rgMEei33",
        "outputId": "92a358c3-03c6-4acc-f0e8-76ab09623fdb"
      },
      "execution_count": 33,
      "outputs": [
        {
          "output_type": "display_data",
          "data": {
            "text/plain": [
              "<Figure size 1008x864 with 6 Axes>"
            ],
            "image/png": "[encoded data removed]"
          },
          "metadata": {
            "needs_background": "light"
          }
        }
      ]
    }
  ]
}