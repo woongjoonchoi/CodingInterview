{
  "nbformat": 4,
  "nbformat_minor": 0,
  "metadata": {
    "colab": {
      "name": "Polynomial Regression: Office Prices-HackerRanks",
      "provenance": [],
      "collapsed_sections": [],
      "toc_visible": true,
      "authorship_tag": "ABX9TyN5NFewpKRD8H5sHWbOsLG8",
      "include_colab_link": true
    },
    "kernelspec": {
      "name": "python3",
      "display_name": "Python 3"
    },
    "language_info": {
      "name": "python"
    }
  },
  "cells": [
    {
      "cell_type": "markdown",
      "metadata": {
        "id": "view-in-github",
        "colab_type": "text"
      },
      "source": [
        "<a href=\"https://colab.research.google.com/github/woongjoonchoi/CodingInterview/blob/main/Polynomial_Regression_Office_Prices_HackerRanks.ipynb\" target=\"_parent\"><img src=\"https://colab.research.google.com/assets/colab-badge.svg\" alt=\"Open In Colab\"/></a>"
      ]
    },
    {
      "cell_type": "code",
      "source": [
        "import os\n",
        "os.getcwd()"
      ],
      "metadata": {
        "colab": {
          "base_uri": "https://localhost:8080/",
          "height": 35
        },
        "id": "OXwPSG1NbhWV",
        "outputId": "bea3c382-6108-4177-e04c-8e0ec2c3f5fe"
      },
      "execution_count": 6,
      "outputs": [
        {
          "output_type": "execute_result",
          "data": {
            "text/plain": [
              "'/content'"
            ],
            "application/vnd.google.colaboratory.intrinsic+json": {
              "type": "string"
            }
          },
          "metadata": {},
          "execution_count": 6
        }
      ]
    },
    {
      "cell_type": "code",
      "source": [
        "os.path.dirname(\"input03.txt\")"
      ],
      "metadata": {
        "colab": {
          "base_uri": "https://localhost:8080/",
          "height": 35
        },
        "id": "cUoJ95yRccKy",
        "outputId": "e571501f-c974-4428-a77c-3b6b24b806aa"
      },
      "execution_count": 7,
      "outputs": [
        {
          "output_type": "execute_result",
          "data": {
            "text/plain": [
              "''"
            ],
            "application/vnd.google.colaboratory.intrinsic+json": {
              "type": "string"
            }
          },
          "metadata": {},
          "execution_count": 7
        }
      ]
    },
    {
      "cell_type": "code",
      "source": [
        "f = open(\"input03.txt\" ,'r')\n",
        "\n",
        "lines = f.readlines()\n",
        "\n",
        "for line in lines :\n",
        "    print(line)\n",
        "\n",
        "f.close()\n"
      ],
      "metadata": {
        "id": "LQUJDwqHb0kY"
      },
      "execution_count": null,
      "outputs": []
    },
    {
      "cell_type": "code",
      "execution_count": 13,
      "metadata": {
        "id": "xf0qE5RA4Xbt"
      },
      "outputs": [],
      "source": [
        "from sklearn.preprocessing import PolynomialFeatures"
      ]
    },
    {
      "cell_type": "code",
      "source": [
        "import numpy as np"
      ],
      "metadata": {
        "id": "oyypapWCU5o3"
      },
      "execution_count": 12,
      "outputs": []
    },
    {
      "cell_type": "markdown",
      "source": [
        "## Stdin processing"
      ],
      "metadata": {
        "id": "82mTn6qjUEEN"
      }
    },
    {
      "cell_type": "code",
      "source": [
        "\n",
        "\n",
        "F,N = map(int,input().split())\n",
        "\n",
        "\n",
        "X = np.arange(F * N , dtype  = np.float64).reshape(N,F )\n",
        "Y = np.arange(N, dtype = np.float64).reshape(N,1)\n",
        "for i in range(N) :\n",
        "    *feat , y = input().split()\n",
        "    X[i][:] = feat\n",
        "    Y[i][:] = y\n",
        "\n",
        "\n",
        "m = int(input())\n",
        "\n",
        "test_x = np.arange(m*N ,dtype = np.float64).reshape(m,F)\n",
        "\n",
        "for i in range(m) :\n",
        "    test_x[i][:] = input().split()\n",
        "print(X)\n"
      ],
      "metadata": {
        "id": "kPohXjiATr4Y"
      },
      "execution_count": null,
      "outputs": []
    },
    {
      "cell_type": "markdown",
      "source": [
        "## input txt processing"
      ],
      "metadata": {
        "id": "cx44qeYLc9QJ"
      }
    },
    {
      "cell_type": "code",
      "source": [
        "f = open(\"input03.txt\" ,'r')\n",
        "\n",
        "lines = f.readlines()\n",
        "\n",
        "F , N  = map(int,lines[0].split())\n",
        "\n",
        "X = np.arange(F * N , dtype  = np.float64).reshape(N,F )\n",
        "Y = np.arange(N, dtype = np.float64).reshape(N,1)\n",
        "\n",
        "for i in  range(N) :\n",
        "\n",
        "    *feat  , y  = lines[i+1].split()\n",
        "    X[i][:] = feat\n",
        "    Y[i][:] = y\n",
        "    # print(line)\n",
        "\n",
        "m = int(lines[N+1])\n",
        "test_x = np.arange(F * m, dtype = np.float64).reshape(m,F)\n",
        "\n",
        "for i in range(m) :\n",
        "    test_x[i][:] = lines[N+2+i].split()\n",
        "print(X)\n",
        "print(Y)\n",
        "\n",
        "f.close()\n"
      ],
      "metadata": {
        "colab": {
          "base_uri": "https://localhost:8080/"
        },
        "id": "4NzUugWPc-xt",
        "outputId": "9bdc9872-1a0a-4484-f467-297003cdf2cb"
      },
      "execution_count": 60,
      "outputs": [
        {
          "output_type": "stream",
          "name": "stdout",
          "text": [
            "[[0.44 0.68]\n",
            " [0.99 0.23]\n",
            " [0.84 0.29]\n",
            " [0.28 0.45]\n",
            " [0.07 0.83]\n",
            " [0.66 0.8 ]\n",
            " [0.73 0.92]\n",
            " [0.57 0.43]\n",
            " [0.43 0.89]\n",
            " [0.27 0.95]\n",
            " [0.43 0.06]\n",
            " [0.87 0.91]\n",
            " [0.78 0.69]\n",
            " [0.9  0.94]\n",
            " [0.41 0.06]\n",
            " [0.52 0.17]\n",
            " [0.47 0.66]\n",
            " [0.65 0.43]\n",
            " [0.85 0.64]\n",
            " [0.93 0.44]\n",
            " [0.41 0.93]\n",
            " [0.36 0.43]\n",
            " [0.78 0.85]\n",
            " [0.69 0.07]\n",
            " [0.04 0.52]\n",
            " [0.17 0.15]\n",
            " [0.68 0.13]\n",
            " [0.84 0.6 ]\n",
            " [0.38 0.4 ]\n",
            " [0.12 0.65]\n",
            " [0.62 0.17]\n",
            " [0.79 0.97]\n",
            " [0.82 0.04]\n",
            " [0.91 0.53]\n",
            " [0.35 0.85]\n",
            " [0.57 0.69]\n",
            " [0.52 0.22]\n",
            " [0.31 0.15]\n",
            " [0.6  0.02]\n",
            " [0.99 0.91]\n",
            " [0.48 0.76]\n",
            " [0.3  0.19]\n",
            " [0.58 0.62]\n",
            " [0.65 0.17]\n",
            " [0.6  0.69]\n",
            " [0.95 0.76]\n",
            " [0.47 0.23]\n",
            " [0.15 0.96]\n",
            " [0.01 0.03]\n",
            " [0.26 0.23]\n",
            " [0.01 0.11]\n",
            " [0.45 0.87]\n",
            " [0.09 0.97]\n",
            " [0.96 0.25]\n",
            " [0.63 0.58]\n",
            " [0.06 0.42]\n",
            " [0.1  0.24]\n",
            " [0.26 0.62]\n",
            " [0.41 0.15]\n",
            " [0.91 0.95]\n",
            " [0.83 0.64]\n",
            " [0.44 0.64]\n",
            " [0.2  0.4 ]\n",
            " [0.43 0.12]\n",
            " [0.21 0.22]\n",
            " [0.88 0.4 ]\n",
            " [0.31 0.87]\n",
            " [0.99 0.99]\n",
            " [0.23 0.26]\n",
            " [0.79 0.12]\n",
            " [0.02 0.28]\n",
            " [0.89 0.48]\n",
            " [0.02 0.56]\n",
            " [0.92 0.03]\n",
            " [0.72 0.34]\n",
            " [0.3  0.99]\n",
            " [0.86 0.66]\n",
            " [0.47 0.65]\n",
            " [0.79 0.94]\n",
            " [0.82 0.96]\n",
            " [0.9  0.42]\n",
            " [0.19 0.62]\n",
            " [0.7  0.57]\n",
            " [0.7  0.61]\n",
            " [0.69 0.  ]\n",
            " [0.98 0.3 ]\n",
            " [0.3  0.08]\n",
            " [0.85 0.49]\n",
            " [0.73 0.01]\n",
            " [1.   0.23]\n",
            " [0.42 0.94]\n",
            " [0.49 0.98]\n",
            " [0.89 0.68]\n",
            " [0.22 0.46]\n",
            " [0.34 0.5 ]\n",
            " [0.99 0.13]\n",
            " [0.28 0.46]\n",
            " [0.87 0.36]\n",
            " [0.23 0.87]\n",
            " [0.77 0.36]]\n",
            "[[ 511.14]\n",
            " [ 717.1 ]\n",
            " [ 607.91]\n",
            " [ 270.4 ]\n",
            " [ 289.88]\n",
            " [ 830.85]\n",
            " [1038.09]\n",
            " [ 455.19]\n",
            " [ 640.17]\n",
            " [ 511.06]\n",
            " [ 177.03]\n",
            " [1242.52]\n",
            " [ 891.37]\n",
            " [1339.72]\n",
            " [ 169.88]\n",
            " [ 276.05]\n",
            " [ 517.43]\n",
            " [ 522.25]\n",
            " [ 932.21]\n",
            " [ 851.25]\n",
            " [ 640.11]\n",
            " [ 308.68]\n",
            " [1046.05]\n",
            " [ 332.4 ]\n",
            " [ 171.85]\n",
            " [ 109.55]\n",
            " [ 361.97]\n",
            " [ 872.21]\n",
            " [ 303.7 ]\n",
            " [ 256.38]\n",
            " [ 341.2 ]\n",
            " [1194.63]\n",
            " [ 408.6 ]\n",
            " [ 895.54]\n",
            " [ 518.25]\n",
            " [ 638.75]\n",
            " [ 301.9 ]\n",
            " [ 163.38]\n",
            " [ 240.77]\n",
            " [1449.05]\n",
            " [ 609.  ]\n",
            " [ 174.59]\n",
            " [ 593.45]\n",
            " [ 355.96]\n",
            " [ 671.46]\n",
            " [1193.7 ]\n",
            " [ 278.88]\n",
            " [ 411.4 ]\n",
            " [  42.08]\n",
            " [ 166.19]\n",
            " [  58.62]\n",
            " [ 642.45]\n",
            " [ 368.14]\n",
            " [ 702.78]\n",
            " [ 615.74]\n",
            " [ 143.79]\n",
            " [ 109.  ]\n",
            " [ 328.28]\n",
            " [ 205.16]\n",
            " [1360.49]\n",
            " [ 905.83]\n",
            " [ 487.33]\n",
            " [ 202.76]\n",
            " [ 202.01]\n",
            " [ 148.87]\n",
            " [ 745.3 ]\n",
            " [ 503.04]\n",
            " [1563.82]\n",
            " [ 165.21]\n",
            " [ 438.4 ]\n",
            " [  98.47]\n",
            " [ 819.63]\n",
            " [ 174.44]\n",
            " [ 483.13]\n",
            " [ 534.24]\n",
            " [ 572.31]\n",
            " [ 957.61]\n",
            " [ 518.29]\n",
            " [1143.49]\n",
            " [1211.31]\n",
            " [ 784.74]\n",
            " [ 283.7 ]\n",
            " [ 684.38]\n",
            " [ 719.46]\n",
            " [ 292.23]\n",
            " [ 775.68]\n",
            " [ 130.77]\n",
            " [ 801.6 ]\n",
            " [ 323.55]\n",
            " [ 726.9 ]\n",
            " [ 661.12]\n",
            " [ 771.11]\n",
            " [1016.14]\n",
            " [ 237.69]\n",
            " [ 325.89]\n",
            " [ 636.22]\n",
            " [ 272.12]\n",
            " [ 696.65]\n",
            " [ 434.53]\n",
            " [ 593.86]]\n"
          ]
        }
      ]
    },
    {
      "cell_type": "code",
      "source": [
        "Y.shape"
      ],
      "metadata": {
        "colab": {
          "base_uri": "https://localhost:8080/"
        },
        "id": "bWsNFpRAmU2I",
        "outputId": "1be3a5f5-1f75-4f16-b3e5-99d882fab75f"
      },
      "execution_count": 42,
      "outputs": [
        {
          "output_type": "execute_result",
          "data": {
            "text/plain": [
              "(100, 1)"
            ]
          },
          "metadata": {},
          "execution_count": 42
        }
      ]
    },
    {
      "cell_type": "code",
      "source": [
        "X.shape"
      ],
      "metadata": {
        "colab": {
          "base_uri": "https://localhost:8080/"
        },
        "id": "juyXaoIDpH2a",
        "outputId": "3a93969a-2b2e-4b04-a2de-6a83fdc38f62"
      },
      "execution_count": 61,
      "outputs": [
        {
          "output_type": "execute_result",
          "data": {
            "text/plain": [
              "(100, 2)"
            ]
          },
          "metadata": {},
          "execution_count": 61
        }
      ]
    },
    {
      "cell_type": "markdown",
      "source": [
        "## Data Visualization"
      ],
      "metadata": {
        "id": "T95BaNF2Xucy"
      }
    },
    {
      "cell_type": "code",
      "source": [
        "!pip install matplotlib==3.3.4"
      ],
      "metadata": {
        "colab": {
          "base_uri": "https://localhost:8080/"
        },
        "id": "OYlj5iO2YsV-",
        "outputId": "53c72d98-b0b1-4b6a-ba0e-3eac9452e8e7"
      },
      "execution_count": 1,
      "outputs": [
        {
          "output_type": "stream",
          "name": "stdout",
          "text": [
            "Looking in indexes: https://pypi.org/simple, https://us-python.pkg.dev/colab-wheels/public/simple/\n",
            "Requirement already satisfied: matplotlib==3.3.4 in /usr/local/lib/python3.7/dist-packages (3.3.4)\n",
            "Requirement already satisfied: pyparsing!=2.0.4,!=2.1.2,!=2.1.6,>=2.0.3 in /usr/local/lib/python3.7/dist-packages (from matplotlib==3.3.4) (3.0.9)\n",
            "Requirement already satisfied: numpy>=1.15 in /usr/local/lib/python3.7/dist-packages (from matplotlib==3.3.4) (1.21.6)\n",
            "Requirement already satisfied: cycler>=0.10 in /usr/local/lib/python3.7/dist-packages (from matplotlib==3.3.4) (0.11.0)\n",
            "Requirement already satisfied: kiwisolver>=1.0.1 in /usr/local/lib/python3.7/dist-packages (from matplotlib==3.3.4) (1.4.4)\n",
            "Requirement already satisfied: pillow>=6.2.0 in /usr/local/lib/python3.7/dist-packages (from matplotlib==3.3.4) (7.1.2)\n",
            "Requirement already satisfied: python-dateutil>=2.1 in /usr/local/lib/python3.7/dist-packages (from matplotlib==3.3.4) (2.8.2)\n",
            "Requirement already satisfied: typing-extensions in /usr/local/lib/python3.7/dist-packages (from kiwisolver>=1.0.1->matplotlib==3.3.4) (4.1.1)\n",
            "Requirement already satisfied: six>=1.5 in /usr/local/lib/python3.7/dist-packages (from python-dateutil>=2.1->matplotlib==3.3.4) (1.15.0)\n"
          ]
        }
      ]
    },
    {
      "cell_type": "code",
      "source": [
        "import matplotlib as mpl\n",
        "mpl.__version__"
      ],
      "metadata": {
        "colab": {
          "base_uri": "https://localhost:8080/",
          "height": 35
        },
        "id": "jxuHWrOTYcKa",
        "outputId": "ada57ba1-add2-4dcf-9dfb-0589cb84a08b"
      },
      "execution_count": 2,
      "outputs": [
        {
          "output_type": "execute_result",
          "data": {
            "text/plain": [
              "'3.3.4'"
            ],
            "application/vnd.google.colaboratory.intrinsic+json": {
              "type": "string"
            }
          },
          "metadata": {},
          "execution_count": 2
        }
      ]
    },
    {
      "cell_type": "code",
      "source": [
        "import matplotlib.pyplot as plt"
      ],
      "metadata": {
        "id": "jYdwJAmEXt7o"
      },
      "execution_count": 3,
      "outputs": []
    },
    {
      "cell_type": "code",
      "source": [
        ""
      ],
      "metadata": {
        "id": "s5fcTzpCX0vZ"
      },
      "execution_count": null,
      "outputs": []
    },
    {
      "cell_type": "markdown",
      "source": [
        "### Make Polynomail Features"
      ],
      "metadata": {
        "id": "a00ae83iWiDv"
      }
    },
    {
      "cell_type": "code",
      "source": [
        "from sklearn.preprocessing import PolynomialFeatures"
      ],
      "metadata": {
        "id": "m3wUKsR8uYEM"
      },
      "execution_count": 108,
      "outputs": []
    },
    {
      "cell_type": "markdown",
      "source": [
        "#### degree2"
      ],
      "metadata": {
        "id": "EFvSM3KtsK7P"
      }
    },
    {
      "cell_type": "code",
      "source": [
        "# xx = np.arange(6).reshape(3,2)\n",
        "\n",
        "poly = PolynomialFeatures(2)\n",
        "\n",
        "new_data  = poly.fit_transform(X)\n",
        "\n",
        "# poly\n",
        "new_data.shape"
      ],
      "metadata": {
        "colab": {
          "base_uri": "https://localhost:8080/"
        },
        "id": "-PpYEdMXWhm-",
        "outputId": "4423be89-dc48-4817-88ea-9031ed7ad6fa"
      },
      "execution_count": 70,
      "outputs": [
        {
          "output_type": "execute_result",
          "data": {
            "text/plain": [
              "(100, 6)"
            ]
          },
          "metadata": {},
          "execution_count": 70
        }
      ]
    },
    {
      "cell_type": "code",
      "source": [
        "test_poly = PolynomialFeatures(2)\n",
        "\n",
        "new_test_x = test_poly.fit_transform(test_x)\n",
        "\n",
        "new_test_x"
      ],
      "metadata": {
        "colab": {
          "base_uri": "https://localhost:8080/"
        },
        "id": "rMy_X1hToNPH",
        "outputId": "966f6bb9-64c9-4da2-c723-ad060228715b"
      },
      "execution_count": 51,
      "outputs": [
        {
          "output_type": "execute_result",
          "data": {
            "text/plain": [
              "array([[1.    , 0.05  , 0.54  , 0.0025, 0.027 , 0.2916],\n",
              "       [1.    , 0.91  , 0.91  , 0.8281, 0.8281, 0.8281],\n",
              "       [1.    , 0.31  , 0.76  , 0.0961, 0.2356, 0.5776],\n",
              "       [1.    , 0.51  , 0.31  , 0.2601, 0.1581, 0.0961]])"
            ]
          },
          "metadata": {},
          "execution_count": 51
        }
      ]
    },
    {
      "cell_type": "markdown",
      "source": [
        "#### degree 3"
      ],
      "metadata": {
        "id": "w54jIx8YsMuy"
      }
    },
    {
      "cell_type": "code",
      "source": [
        "# xx = np.arange(6).reshape(3,2)\n",
        "\n",
        "poly3 = PolynomialFeatures(3)\n",
        "\n",
        "new_data3  = poly3.fit_transform(X)\n",
        "\n",
        "# poly\n",
        "new_data3.shape"
      ],
      "metadata": {
        "colab": {
          "base_uri": "https://localhost:8080/"
        },
        "id": "6Gqu5Lz3qPjh",
        "outputId": "8d0f3e33-2fc9-43cf-9f8d-70eb3fddac12"
      },
      "execution_count": 98,
      "outputs": [
        {
          "output_type": "execute_result",
          "data": {
            "text/plain": [
              "(100, 10)"
            ]
          },
          "metadata": {},
          "execution_count": 98
        }
      ]
    },
    {
      "cell_type": "code",
      "source": [
        "new_test_x3 = poly3.fit_transform(test_x)"
      ],
      "metadata": {
        "id": "VZPxRbRss1wI"
      },
      "execution_count": 91,
      "outputs": []
    },
    {
      "cell_type": "code",
      "source": [
        "new_test_x3.shape\n"
      ],
      "metadata": {
        "colab": {
          "base_uri": "https://localhost:8080/"
        },
        "id": "2P8G27uSgeHC",
        "outputId": "70042d23-c616-4c72-80ea-c53932ed180e"
      },
      "execution_count": 100,
      "outputs": [
        {
          "output_type": "execute_result",
          "data": {
            "text/plain": [
              "(4, 10)"
            ]
          },
          "metadata": {},
          "execution_count": 100
        }
      ]
    },
    {
      "cell_type": "markdown",
      "source": [
        "### Plotting degree 2 ,y scatter plot"
      ],
      "metadata": {
        "id": "iDKPqEJxsTtH"
      }
    },
    {
      "cell_type": "code",
      "source": [
        "fig = plt.figure(figsize = (14,12))\n",
        "\n",
        "\n",
        "for ind , i in enumerate(range(1 , 3 * 2 + 1)) :\n",
        "    ax = fig.add_subplot(3,3,i) \n",
        "    ax.set_title(i)\n",
        "    ax.scatter(new_data[:,ind] , Y)\n",
        "\n",
        "plt.show()\n",
        "# ax1  = fig.add_subplot()\n"
      ],
      "metadata": {
        "colab": {
          "base_uri": "https://localhost:8080/",
          "height": 486
        },
        "id": "j147rgMEei33",
        "outputId": "986b8183-413a-43ae-ec9d-bb55aec21574"
      },
      "execution_count": 34,
      "outputs": [
        {
          "output_type": "display_data",
          "data": {
            "text/plain": [
              "<Figure size 1008x864 with 6 Axes>"
            ],
            "image/png": "[encoded data removed]"
          },
          "metadata": {
            "needs_background": "light"
          }
        }
      ]
    },
    {
      "cell_type": "markdown",
      "source": [
        "## Make LinearRegression Model"
      ],
      "metadata": {
        "id": "MY4j55ZslQjX"
      }
    },
    {
      "cell_type": "markdown",
      "source": [
        "### using 1 feature "
      ],
      "metadata": {
        "id": "nwCLo_usom5V"
      }
    },
    {
      "cell_type": "code",
      "source": [
        "new_data[:,4].reshape(100,1).shape"
      ],
      "metadata": {
        "colab": {
          "base_uri": "https://localhost:8080/"
        },
        "id": "xyXspUyqrciE",
        "outputId": "1488f01d-1572-4d77-b771-af760df92713"
      },
      "execution_count": 73,
      "outputs": [
        {
          "output_type": "execute_result",
          "data": {
            "text/plain": [
              "(100, 1)"
            ]
          },
          "metadata": {},
          "execution_count": 73
        }
      ]
    },
    {
      "cell_type": "code",
      "source": [
        "from sklearn.metrics import mean_squared_error"
      ],
      "metadata": {
        "id": "8K-UXfV0qzxF"
      },
      "execution_count": 67,
      "outputs": []
    },
    {
      "cell_type": "code",
      "source": [
        "from sklearn.linear_model import LinearRegression"
      ],
      "metadata": {
        "id": "F4ssmsv0lS0c"
      },
      "execution_count": 37,
      "outputs": []
    },
    {
      "cell_type": "code",
      "source": [
        "lr = LinearRegression()"
      ],
      "metadata": {
        "id": "9rO_Xb3zloyh"
      },
      "execution_count": 39,
      "outputs": []
    },
    {
      "cell_type": "code",
      "source": [
        "lr.fit(new_data[:,4].reshape(100,1) , Y)"
      ],
      "metadata": {
        "colab": {
          "base_uri": "https://localhost:8080/"
        },
        "id": "dhYSP-0vl-MG",
        "outputId": "3efd6bb8-fc13-48a5-f86c-bb10b8264d7f"
      },
      "execution_count": 43,
      "outputs": [
        {
          "output_type": "execute_result",
          "data": {
            "text/plain": [
              "LinearRegression()"
            ]
          },
          "metadata": {},
          "execution_count": 43
        }
      ]
    },
    {
      "cell_type": "code",
      "source": [
        "p = lr.predict(new_data[:,4].reshape(100,1) )"
      ],
      "metadata": {
        "id": "9eYr2g_-rEGR"
      },
      "execution_count": 74,
      "outputs": []
    },
    {
      "cell_type": "code",
      "source": [
        "mean_squared_error(p,Y )"
      ],
      "metadata": {
        "colab": {
          "base_uri": "https://localhost:8080/"
        },
        "id": "qEOl9mlfqy3_",
        "outputId": "0a43ab25-1179-4b62-ee96-fd281941e649"
      },
      "execution_count": 76,
      "outputs": [
        {
          "output_type": "execute_result",
          "data": {
            "text/plain": [
              "7803.032413546304"
            ]
          },
          "metadata": {},
          "execution_count": 76
        }
      ]
    },
    {
      "cell_type": "code",
      "source": [
        "prediction = lr.predict(new_test_x[:,4].reshape(4,1))"
      ],
      "metadata": {
        "id": "X3TqU8GgmG4G"
      },
      "execution_count": 52,
      "outputs": []
    },
    {
      "cell_type": "code",
      "source": [
        "prediction"
      ],
      "metadata": {
        "colab": {
          "base_uri": "https://localhost:8080/"
        },
        "id": "CUbPLup0oeIg",
        "outputId": "e8cef17d-c3e7-4603-a9d5-871dd22b6f83"
      },
      "execution_count": 53,
      "outputs": [
        {
          "output_type": "execute_result",
          "data": {
            "text/plain": [
              "array([[ 207.25099589],\n",
              "       [1306.67288308],\n",
              "       [ 493.53161712],\n",
              "       [ 387.17136714]])"
            ]
          },
          "metadata": {},
          "execution_count": 53
        }
      ]
    },
    {
      "cell_type": "markdown",
      "source": [
        "### using given feature(no feature engineering)"
      ],
      "metadata": {
        "id": "GBlSqAtooxzM"
      }
    },
    {
      "cell_type": "code",
      "source": [
        "lr2 = LinearRegression()"
      ],
      "metadata": {
        "id": "sxNSSJ6io1LO"
      },
      "execution_count": 62,
      "outputs": []
    },
    {
      "cell_type": "code",
      "source": [
        "lr2.fit(X,Y)"
      ],
      "metadata": {
        "colab": {
          "base_uri": "https://localhost:8080/"
        },
        "id": "_h_TwXOCo5Hd",
        "outputId": "b6208db8-010e-4944-b2f5-030ab4e3482f"
      },
      "execution_count": 63,
      "outputs": [
        {
          "output_type": "execute_result",
          "data": {
            "text/plain": [
              "LinearRegression()"
            ]
          },
          "metadata": {},
          "execution_count": 63
        }
      ]
    },
    {
      "cell_type": "code",
      "source": [
        "prediction = lr2.predict(test_x)"
      ],
      "metadata": {
        "id": "W7ogFstno79q"
      },
      "execution_count": 64,
      "outputs": []
    },
    {
      "cell_type": "code",
      "source": [
        "p = lr2.predict(X )"
      ],
      "metadata": {
        "id": "k8uIK_Ccrpxj"
      },
      "execution_count": 77,
      "outputs": []
    },
    {
      "cell_type": "code",
      "source": [
        "mean_squared_error(p,Y )"
      ],
      "metadata": {
        "colab": {
          "base_uri": "https://localhost:8080/"
        },
        "id": "CWwmQYrQrxMY",
        "outputId": "43c33566-ae1e-449a-88c6-9c5c5ca6c321"
      },
      "execution_count": 78,
      "outputs": [
        {
          "output_type": "execute_result",
          "data": {
            "text/plain": [
              "7227.1740661074755"
            ]
          },
          "metadata": {},
          "execution_count": 78
        }
      ]
    },
    {
      "cell_type": "code",
      "source": [
        "prediction"
      ],
      "metadata": {
        "colab": {
          "base_uri": "https://localhost:8080/"
        },
        "id": "rkwdOQiUpA2i",
        "outputId": "bdedf050-abe7-4bc1-9a4b-e51dbf3d5356"
      },
      "execution_count": 65,
      "outputs": [
        {
          "output_type": "execute_result",
          "data": {
            "text/plain": [
              "array([[ 142.81681051],\n",
              "       [1144.03879231],\n",
              "       [ 518.46940567],\n",
              "       [ 389.66180032]])"
            ]
          },
          "metadata": {},
          "execution_count": 65
        }
      ]
    },
    {
      "cell_type": "markdown",
      "source": [
        "### using feature engineering(degree 2)"
      ],
      "metadata": {
        "id": "VavVg027rzsa"
      }
    },
    {
      "cell_type": "code",
      "source": [
        "lr3 = LinearRegression()"
      ],
      "metadata": {
        "id": "pr-J_IASr2zw"
      },
      "execution_count": 80,
      "outputs": []
    },
    {
      "cell_type": "code",
      "source": [
        "lr3.fit(new_data,Y)"
      ],
      "metadata": {
        "colab": {
          "base_uri": "https://localhost:8080/"
        },
        "id": "tQoAq2evr4Sj",
        "outputId": "3aa5ec4c-5f6b-4ddc-86c8-3267bffb9c38"
      },
      "execution_count": 81,
      "outputs": [
        {
          "output_type": "execute_result",
          "data": {
            "text/plain": [
              "LinearRegression()"
            ]
          },
          "metadata": {},
          "execution_count": 81
        }
      ]
    },
    {
      "cell_type": "code",
      "source": [
        "p = lr3.predict(new_data)"
      ],
      "metadata": {
        "id": "7nV-u0mSsATs"
      },
      "execution_count": 82,
      "outputs": []
    },
    {
      "cell_type": "code",
      "source": [
        "mean_squared_error(p,Y )"
      ],
      "metadata": {
        "colab": {
          "base_uri": "https://localhost:8080/"
        },
        "id": "ffp21LjrsDL2",
        "outputId": "5926fb18-b0a0-463d-97e0-67f89c731465"
      },
      "execution_count": 83,
      "outputs": [
        {
          "output_type": "execute_result",
          "data": {
            "text/plain": [
              "75.67043665708965"
            ]
          },
          "metadata": {},
          "execution_count": 83
        }
      ]
    },
    {
      "cell_type": "code",
      "source": [
        "prediction = lr3.predict(new_test_x)"
      ],
      "metadata": {
        "id": "Fx8IvSF0sw9X"
      },
      "execution_count": 93,
      "outputs": []
    },
    {
      "cell_type": "code",
      "source": [
        "prediction"
      ],
      "metadata": {
        "colab": {
          "base_uri": "https://localhost:8080/"
        },
        "id": "PQeqw2mftDrZ",
        "outputId": "77f6de47-dbfc-4fd3-a2f3-a272a8850d7c"
      },
      "execution_count": 94,
      "outputs": [
        {
          "output_type": "execute_result",
          "data": {
            "text/plain": [
              "array([[ 170.97398521],\n",
              "       [1303.88162595],\n",
              "       [ 438.77707693],\n",
              "       [ 339.25223837]])"
            ]
          },
          "metadata": {},
          "execution_count": 94
        }
      ]
    },
    {
      "cell_type": "markdown",
      "source": [
        "### using feature engineering(degree3)"
      ],
      "metadata": {
        "id": "LChri7oPsZAV"
      }
    },
    {
      "cell_type": "code",
      "source": [
        "lr4 = LinearRegression()\n"
      ],
      "metadata": {
        "id": "4lIRJNf6scSE"
      },
      "execution_count": 101,
      "outputs": []
    },
    {
      "cell_type": "code",
      "source": [
        "lr4.fit(new_data3 , Y)"
      ],
      "metadata": {
        "colab": {
          "base_uri": "https://localhost:8080/"
        },
        "id": "eTpmWrMIseFK",
        "outputId": "9e0f7b22-2624-435b-c921-172cb7eb2160"
      },
      "execution_count": 102,
      "outputs": [
        {
          "output_type": "execute_result",
          "data": {
            "text/plain": [
              "LinearRegression()"
            ]
          },
          "metadata": {},
          "execution_count": 102
        }
      ]
    },
    {
      "cell_type": "code",
      "source": [
        "p = lr4.predict(new_data3)"
      ],
      "metadata": {
        "id": "9bjm-hWIsmLY"
      },
      "execution_count": 103,
      "outputs": []
    },
    {
      "cell_type": "code",
      "source": [
        "mean_squared_error(p,Y )"
      ],
      "metadata": {
        "colab": {
          "base_uri": "https://localhost:8080/"
        },
        "id": "QFFL-fV0sowf",
        "outputId": "435cb1ea-acc3-4a60-d7fb-a5898a9795dc"
      },
      "execution_count": 104,
      "outputs": [
        {
          "output_type": "execute_result",
          "data": {
            "text/plain": [
              "19.31344315936349"
            ]
          },
          "metadata": {},
          "execution_count": 104
        }
      ]
    },
    {
      "cell_type": "code",
      "source": [
        "prediction = lr4.predict(new_test_x3)"
      ],
      "metadata": {
        "id": "AlQEWH1-sk9s"
      },
      "execution_count": 105,
      "outputs": []
    },
    {
      "cell_type": "code",
      "source": [
        "prediction"
      ],
      "metadata": {
        "colab": {
          "base_uri": "https://localhost:8080/"
        },
        "id": "5L1gjNNztbvP",
        "outputId": "ac07489e-856f-44d3-eeeb-fc8d1fda25c7"
      },
      "execution_count": 107,
      "outputs": [
        {
          "output_type": "execute_result",
          "data": {
            "text/plain": [
              "array([[ 180.37682443],\n",
              "       [1312.06505966],\n",
              "       [ 440.1292533 ],\n",
              "       [ 343.71538008]])"
            ]
          },
          "metadata": {},
          "execution_count": 107
        }
      ]
    }
  ]
}